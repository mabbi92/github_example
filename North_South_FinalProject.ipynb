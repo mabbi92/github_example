{
 "cells": [
  {
   "cell_type": "markdown",
   "metadata": {},
   "source": [
    "# North vs South: A Portuguese (vege)tale"
   ]
  },
  {
   "cell_type": "markdown",
   "metadata": {},
   "source": [
    "### Introduction"
   ]
  },
  {
   "cell_type": "markdown",
   "metadata": {},
   "source": [
    "Tourism in Portugal serves millions of international and domestic tourists. Tourists visit to see cities, historic landmarks, enjoy beaches, or religious sites. In 2017, Portugal had 23 million visitors. The most popular destinations were Lisbon, Porto, Fatima, the Portuguese Riviera and the Algarve. This project aims to explore the differences between Lisboa and Porto, the two biggest Portugese cities. In 2018 these two cities had more tourists than London or Barcelona and have had an icredible growth over the past years. During this project I expect to explore the different neighbourhoods in both cities, compare and contrast them and see why they are so popular among tourists. "
   ]
  },
  {
   "cell_type": "markdown",
   "metadata": {},
   "source": [
    "This project can also be the first step to a new business to decide where to step foot. In which city there is a wider market to explore. Which city is more homogeneous between neighbourhoods or which has more to offer. "
   ]
  },
  {
   "cell_type": "markdown",
   "metadata": {},
   "source": [
    "**Target:** New Vegetarian Restaurant"
   ]
  },
  {
   "cell_type": "markdown",
   "metadata": {},
   "source": [
    "For this project Foursquare data will be used for both cities and in the end a cluster analysis will be made to compare different neighbourhoods in each city and between the two cities. Also, an exploratory analysis of the type of restaurants in both cities will be made, to explore where is best to open a new vegetarian restaurant. "
   ]
  },
  {
   "cell_type": "markdown",
   "metadata": {},
   "source": [
    "### Data"
   ]
  },
  {
   "cell_type": "markdown",
   "metadata": {},
   "source": [
    "Based on this problem, the factors that will influence my decission are as follows:\n",
    "(Same analysis will be done for Lisboa and Porto)\n",
    "* number of existing restaurants in the neighborhood (any type of restaurant)\n",
    "* number of Vegetarian restaurants in the neighborhood, if any\n",
    "* distance of neighborhood from city center\n",
    "\n",
    "Our neighbourhoods will be defined starting from each city center. \n",
    "\n",
    "Data sources needed to extract the information to be used in the analysis:\n",
    "* number of restaurants and their type and location in every neighbourhood will be obtained using **Foursquare API**\n",
    "* coordinates of Lisboa and Porto centers will be obtained using **Google Maps API geocoding** "
   ]
  },
  {
   "cell_type": "code",
   "execution_count": null,
   "metadata": {},
   "outputs": [],
   "source": []
  }
 ],
 "metadata": {
  "kernelspec": {
   "display_name": "Python 3",
   "language": "python",
   "name": "python3"
  },
  "language_info": {
   "codemirror_mode": {
    "name": "ipython",
    "version": 3
   },
   "file_extension": ".py",
   "mimetype": "text/x-python",
   "name": "python",
   "nbconvert_exporter": "python",
   "pygments_lexer": "ipython3",
   "version": "3.7.1"
  }
 },
 "nbformat": 4,
 "nbformat_minor": 2
}
